{
 "cells": [
  {
   "cell_type": "code",
   "execution_count": 1,
   "metadata": {
    "collapsed": true
   },
   "outputs": [],
   "source": [
    "# if does not have pandas, try: conda install pandas\n",
    "import pandas as pd\n",
    "import pytraj as pt"
   ]
  },
  {
   "cell_type": "code",
   "execution_count": 2,
   "metadata": {
    "collapsed": false
   },
   "outputs": [
    {
     "name": "stdout",
     "output_type": "stream",
     "text": [
      "pytraj.TrajectoryIterator, 101 frames: \n",
      "Size: 0.000503 (GB)\n",
      "<Topology: 223 atoms, 13 residues, 1 mols, non-PBC>\n",
      "           \n"
     ]
    }
   ],
   "source": [
    "traj = pt.iterload('tz2.nc', 'tz2.parm7')\n",
    "print(traj)"
   ]
  },
  {
   "cell_type": "markdown",
   "metadata": {},
   "source": [
    "### Convert to panda's DataFrame"
   ]
  },
  {
   "cell_type": "code",
   "execution_count": 3,
   "metadata": {
    "collapsed": false,
    "scrolled": true
   },
   "outputs": [
    {
     "data": {
      "text/html": [
       "<div>\n",
       "<table border=\"1\" class=\"dataframe\">\n",
       "  <thead>\n",
       "    <tr style=\"text-align: right;\">\n",
       "      <th></th>\n",
       "      <th>disp</th>\n",
       "      <th>polar</th>\n",
       "      <th>surf</th>\n",
       "      <th>elec_14</th>\n",
       "      <th>elec</th>\n",
       "      <th>angle_ub</th>\n",
       "      <th>angle</th>\n",
       "      <th>bond</th>\n",
       "      <th>hbond</th>\n",
       "      <th>emap</th>\n",
       "      <th>...</th>\n",
       "      <th>dihedral</th>\n",
       "      <th>vdw_14</th>\n",
       "      <th>dvdl</th>\n",
       "      <th>vdw</th>\n",
       "      <th>noe</th>\n",
       "      <th>amd_boost</th>\n",
       "      <th>tot</th>\n",
       "      <th>les</th>\n",
       "      <th>gb</th>\n",
       "      <th>scf</th>\n",
       "    </tr>\n",
       "  </thead>\n",
       "  <tbody>\n",
       "    <tr>\n",
       "      <th>0</th>\n",
       "      <td>0</td>\n",
       "      <td>0</td>\n",
       "      <td>0</td>\n",
       "      <td>720.659233</td>\n",
       "      <td>-781.595599</td>\n",
       "      <td>0</td>\n",
       "      <td>128.545148</td>\n",
       "      <td>0.015314</td>\n",
       "      <td>0</td>\n",
       "      <td>0</td>\n",
       "      <td>...</td>\n",
       "      <td>111.611329</td>\n",
       "      <td>52.557611</td>\n",
       "      <td>0</td>\n",
       "      <td>-44.981184</td>\n",
       "      <td>0</td>\n",
       "      <td>0</td>\n",
       "      <td>-225.720813</td>\n",
       "      <td>0</td>\n",
       "      <td>-412.532664</td>\n",
       "      <td>0</td>\n",
       "    </tr>\n",
       "    <tr>\n",
       "      <th>1</th>\n",
       "      <td>0</td>\n",
       "      <td>0</td>\n",
       "      <td>0</td>\n",
       "      <td>731.533534</td>\n",
       "      <td>-807.489134</td>\n",
       "      <td>0</td>\n",
       "      <td>105.064945</td>\n",
       "      <td>0.013582</td>\n",
       "      <td>0</td>\n",
       "      <td>0</td>\n",
       "      <td>...</td>\n",
       "      <td>105.392413</td>\n",
       "      <td>50.034997</td>\n",
       "      <td>0</td>\n",
       "      <td>-43.770307</td>\n",
       "      <td>0</td>\n",
       "      <td>0</td>\n",
       "      <td>-259.310392</td>\n",
       "      <td>0</td>\n",
       "      <td>-400.090422</td>\n",
       "      <td>0</td>\n",
       "    </tr>\n",
       "    <tr>\n",
       "      <th>2</th>\n",
       "      <td>0</td>\n",
       "      <td>0</td>\n",
       "      <td>0</td>\n",
       "      <td>717.354406</td>\n",
       "      <td>-741.175340</td>\n",
       "      <td>0</td>\n",
       "      <td>103.520284</td>\n",
       "      <td>0.012521</td>\n",
       "      <td>0</td>\n",
       "      <td>0</td>\n",
       "      <td>...</td>\n",
       "      <td>93.030850</td>\n",
       "      <td>54.298550</td>\n",
       "      <td>0</td>\n",
       "      <td>-52.335899</td>\n",
       "      <td>0</td>\n",
       "      <td>0</td>\n",
       "      <td>-265.221642</td>\n",
       "      <td>0</td>\n",
       "      <td>-439.927013</td>\n",
       "      <td>0</td>\n",
       "    </tr>\n",
       "    <tr>\n",
       "      <th>3</th>\n",
       "      <td>0</td>\n",
       "      <td>0</td>\n",
       "      <td>0</td>\n",
       "      <td>735.393666</td>\n",
       "      <td>-804.358857</td>\n",
       "      <td>0</td>\n",
       "      <td>94.560780</td>\n",
       "      <td>0.016334</td>\n",
       "      <td>0</td>\n",
       "      <td>0</td>\n",
       "      <td>...</td>\n",
       "      <td>105.522288</td>\n",
       "      <td>47.862884</td>\n",
       "      <td>0</td>\n",
       "      <td>-52.486528</td>\n",
       "      <td>0</td>\n",
       "      <td>0</td>\n",
       "      <td>-274.445708</td>\n",
       "      <td>0</td>\n",
       "      <td>-400.956276</td>\n",
       "      <td>0</td>\n",
       "    </tr>\n",
       "    <tr>\n",
       "      <th>4</th>\n",
       "      <td>0</td>\n",
       "      <td>0</td>\n",
       "      <td>0</td>\n",
       "      <td>735.440077</td>\n",
       "      <td>-797.075840</td>\n",
       "      <td>0</td>\n",
       "      <td>99.508124</td>\n",
       "      <td>0.013338</td>\n",
       "      <td>0</td>\n",
       "      <td>0</td>\n",
       "      <td>...</td>\n",
       "      <td>105.850222</td>\n",
       "      <td>52.043840</td>\n",
       "      <td>0</td>\n",
       "      <td>-50.893009</td>\n",
       "      <td>0</td>\n",
       "      <td>0</td>\n",
       "      <td>-259.174278</td>\n",
       "      <td>0</td>\n",
       "      <td>-404.061030</td>\n",
       "      <td>0</td>\n",
       "    </tr>\n",
       "  </tbody>\n",
       "</table>\n",
       "<p>5 rows × 26 columns</p>\n",
       "</div>"
      ],
      "text/plain": [
       "   disp  polar  surf     elec_14        elec  angle_ub       angle      bond  \\\n",
       "0     0      0     0  720.659233 -781.595599         0  128.545148  0.015314   \n",
       "1     0      0     0  731.533534 -807.489134         0  105.064945  0.013582   \n",
       "2     0      0     0  717.354406 -741.175340         0  103.520284  0.012521   \n",
       "3     0      0     0  735.393666 -804.358857         0   94.560780  0.016334   \n",
       "4     0      0     0  735.440077 -797.075840         0   99.508124  0.013338   \n",
       "\n",
       "   hbond  emap ...     dihedral     vdw_14  dvdl        vdw  noe  amd_boost  \\\n",
       "0      0     0 ...   111.611329  52.557611     0 -44.981184    0          0   \n",
       "1      0     0 ...   105.392413  50.034997     0 -43.770307    0          0   \n",
       "2      0     0 ...    93.030850  54.298550     0 -52.335899    0          0   \n",
       "3      0     0 ...   105.522288  47.862884     0 -52.486528    0          0   \n",
       "4      0     0 ...   105.850222  52.043840     0 -50.893009    0          0   \n",
       "\n",
       "          tot  les          gb  scf  \n",
       "0 -225.720813    0 -412.532664    0  \n",
       "1 -259.310392    0 -400.090422    0  \n",
       "2 -265.221642    0 -439.927013    0  \n",
       "3 -274.445708    0 -400.956276    0  \n",
       "4 -259.174278    0 -404.061030    0  \n",
       "\n",
       "[5 rows x 26 columns]"
      ]
     },
     "execution_count": 3,
     "metadata": {},
     "output_type": "execute_result"
    }
   ],
   "source": [
    "energies = pt.energy_decomposition(traj, igb=8)\n",
    "\n",
    "# convert energies (dict) to pandas' DataFrame\n",
    "\n",
    "df = pd.DataFrame(energies)\n",
    "df.head()"
   ]
  },
  {
   "cell_type": "markdown",
   "metadata": {},
   "source": [
    "### get some stats"
   ]
  },
  {
   "cell_type": "code",
   "execution_count": 4,
   "metadata": {
    "collapsed": false,
    "scrolled": false
   },
   "outputs": [
    {
     "data": {
      "text/html": [
       "<div>\n",
       "<table border=\"1\" class=\"dataframe\">\n",
       "  <thead>\n",
       "    <tr style=\"text-align: right;\">\n",
       "      <th></th>\n",
       "      <th>disp</th>\n",
       "      <th>polar</th>\n",
       "      <th>surf</th>\n",
       "      <th>elec_14</th>\n",
       "      <th>elec</th>\n",
       "      <th>angle_ub</th>\n",
       "      <th>angle</th>\n",
       "      <th>bond</th>\n",
       "      <th>hbond</th>\n",
       "      <th>emap</th>\n",
       "      <th>...</th>\n",
       "      <th>dihedral</th>\n",
       "      <th>vdw_14</th>\n",
       "      <th>dvdl</th>\n",
       "      <th>vdw</th>\n",
       "      <th>noe</th>\n",
       "      <th>amd_boost</th>\n",
       "      <th>tot</th>\n",
       "      <th>les</th>\n",
       "      <th>gb</th>\n",
       "      <th>scf</th>\n",
       "    </tr>\n",
       "  </thead>\n",
       "  <tbody>\n",
       "    <tr>\n",
       "      <th>count</th>\n",
       "      <td>101</td>\n",
       "      <td>101</td>\n",
       "      <td>101</td>\n",
       "      <td>101.000000</td>\n",
       "      <td>101.000000</td>\n",
       "      <td>101</td>\n",
       "      <td>101.000000</td>\n",
       "      <td>101.000000</td>\n",
       "      <td>101</td>\n",
       "      <td>101</td>\n",
       "      <td>...</td>\n",
       "      <td>101.000000</td>\n",
       "      <td>101.000000</td>\n",
       "      <td>101</td>\n",
       "      <td>101.000000</td>\n",
       "      <td>101</td>\n",
       "      <td>101</td>\n",
       "      <td>101.000000</td>\n",
       "      <td>101</td>\n",
       "      <td>101.000000</td>\n",
       "      <td>101</td>\n",
       "    </tr>\n",
       "    <tr>\n",
       "      <th>mean</th>\n",
       "      <td>0</td>\n",
       "      <td>0</td>\n",
       "      <td>0</td>\n",
       "      <td>733.147711</td>\n",
       "      <td>-811.949931</td>\n",
       "      <td>0</td>\n",
       "      <td>99.571031</td>\n",
       "      <td>0.015159</td>\n",
       "      <td>0</td>\n",
       "      <td>0</td>\n",
       "      <td>...</td>\n",
       "      <td>96.511025</td>\n",
       "      <td>50.037658</td>\n",
       "      <td>0</td>\n",
       "      <td>-55.154436</td>\n",
       "      <td>0</td>\n",
       "      <td>0</td>\n",
       "      <td>-280.309465</td>\n",
       "      <td>0</td>\n",
       "      <td>-392.487683</td>\n",
       "      <td>0</td>\n",
       "    </tr>\n",
       "    <tr>\n",
       "      <th>std</th>\n",
       "      <td>0</td>\n",
       "      <td>0</td>\n",
       "      <td>0</td>\n",
       "      <td>7.894664</td>\n",
       "      <td>17.744617</td>\n",
       "      <td>0</td>\n",
       "      <td>7.700956</td>\n",
       "      <td>0.001460</td>\n",
       "      <td>0</td>\n",
       "      <td>0</td>\n",
       "      <td>...</td>\n",
       "      <td>5.634203</td>\n",
       "      <td>2.373649</td>\n",
       "      <td>0</td>\n",
       "      <td>5.627266</td>\n",
       "      <td>0</td>\n",
       "      <td>0</td>\n",
       "      <td>11.238574</td>\n",
       "      <td>0</td>\n",
       "      <td>14.710022</td>\n",
       "      <td>0</td>\n",
       "    </tr>\n",
       "    <tr>\n",
       "      <th>min</th>\n",
       "      <td>0</td>\n",
       "      <td>0</td>\n",
       "      <td>0</td>\n",
       "      <td>714.936095</td>\n",
       "      <td>-851.957120</td>\n",
       "      <td>0</td>\n",
       "      <td>82.169490</td>\n",
       "      <td>0.012096</td>\n",
       "      <td>0</td>\n",
       "      <td>0</td>\n",
       "      <td>...</td>\n",
       "      <td>83.260357</td>\n",
       "      <td>44.417787</td>\n",
       "      <td>0</td>\n",
       "      <td>-70.793747</td>\n",
       "      <td>0</td>\n",
       "      <td>0</td>\n",
       "      <td>-304.416297</td>\n",
       "      <td>0</td>\n",
       "      <td>-439.927013</td>\n",
       "      <td>0</td>\n",
       "    </tr>\n",
       "    <tr>\n",
       "      <th>25%</th>\n",
       "      <td>0</td>\n",
       "      <td>0</td>\n",
       "      <td>0</td>\n",
       "      <td>727.801282</td>\n",
       "      <td>-822.654166</td>\n",
       "      <td>0</td>\n",
       "      <td>94.716340</td>\n",
       "      <td>0.014186</td>\n",
       "      <td>0</td>\n",
       "      <td>0</td>\n",
       "      <td>...</td>\n",
       "      <td>92.274517</td>\n",
       "      <td>48.360136</td>\n",
       "      <td>0</td>\n",
       "      <td>-58.042714</td>\n",
       "      <td>0</td>\n",
       "      <td>0</td>\n",
       "      <td>-286.997153</td>\n",
       "      <td>0</td>\n",
       "      <td>-402.303297</td>\n",
       "      <td>0</td>\n",
       "    </tr>\n",
       "    <tr>\n",
       "      <th>50%</th>\n",
       "      <td>0</td>\n",
       "      <td>0</td>\n",
       "      <td>0</td>\n",
       "      <td>733.130563</td>\n",
       "      <td>-813.052783</td>\n",
       "      <td>0</td>\n",
       "      <td>99.508124</td>\n",
       "      <td>0.014978</td>\n",
       "      <td>0</td>\n",
       "      <td>0</td>\n",
       "      <td>...</td>\n",
       "      <td>96.520164</td>\n",
       "      <td>50.034997</td>\n",
       "      <td>0</td>\n",
       "      <td>-54.086102</td>\n",
       "      <td>0</td>\n",
       "      <td>0</td>\n",
       "      <td>-280.839953</td>\n",
       "      <td>0</td>\n",
       "      <td>-391.854334</td>\n",
       "      <td>0</td>\n",
       "    </tr>\n",
       "    <tr>\n",
       "      <th>75%</th>\n",
       "      <td>0</td>\n",
       "      <td>0</td>\n",
       "      <td>0</td>\n",
       "      <td>738.629481</td>\n",
       "      <td>-803.334430</td>\n",
       "      <td>0</td>\n",
       "      <td>103.520284</td>\n",
       "      <td>0.015962</td>\n",
       "      <td>0</td>\n",
       "      <td>0</td>\n",
       "      <td>...</td>\n",
       "      <td>99.858045</td>\n",
       "      <td>51.284565</td>\n",
       "      <td>0</td>\n",
       "      <td>-51.655409</td>\n",
       "      <td>0</td>\n",
       "      <td>0</td>\n",
       "      <td>-273.232476</td>\n",
       "      <td>0</td>\n",
       "      <td>-382.291285</td>\n",
       "      <td>0</td>\n",
       "    </tr>\n",
       "    <tr>\n",
       "      <th>max</th>\n",
       "      <td>0</td>\n",
       "      <td>0</td>\n",
       "      <td>0</td>\n",
       "      <td>751.059170</td>\n",
       "      <td>-741.175340</td>\n",
       "      <td>0</td>\n",
       "      <td>128.545148</td>\n",
       "      <td>0.019445</td>\n",
       "      <td>0</td>\n",
       "      <td>0</td>\n",
       "      <td>...</td>\n",
       "      <td>111.611329</td>\n",
       "      <td>55.377881</td>\n",
       "      <td>0</td>\n",
       "      <td>-43.770307</td>\n",
       "      <td>0</td>\n",
       "      <td>0</td>\n",
       "      <td>-225.720813</td>\n",
       "      <td>0</td>\n",
       "      <td>-363.345464</td>\n",
       "      <td>0</td>\n",
       "    </tr>\n",
       "  </tbody>\n",
       "</table>\n",
       "<p>8 rows × 26 columns</p>\n",
       "</div>"
      ],
      "text/plain": [
       "       disp  polar  surf     elec_14        elec  angle_ub       angle  \\\n",
       "count   101    101   101  101.000000  101.000000       101  101.000000   \n",
       "mean      0      0     0  733.147711 -811.949931         0   99.571031   \n",
       "std       0      0     0    7.894664   17.744617         0    7.700956   \n",
       "min       0      0     0  714.936095 -851.957120         0   82.169490   \n",
       "25%       0      0     0  727.801282 -822.654166         0   94.716340   \n",
       "50%       0      0     0  733.130563 -813.052783         0   99.508124   \n",
       "75%       0      0     0  738.629481 -803.334430         0  103.520284   \n",
       "max       0      0     0  751.059170 -741.175340         0  128.545148   \n",
       "\n",
       "             bond  hbond  emap ...     dihedral      vdw_14  dvdl         vdw  \\\n",
       "count  101.000000    101   101 ...   101.000000  101.000000   101  101.000000   \n",
       "mean     0.015159      0     0 ...    96.511025   50.037658     0  -55.154436   \n",
       "std      0.001460      0     0 ...     5.634203    2.373649     0    5.627266   \n",
       "min      0.012096      0     0 ...    83.260357   44.417787     0  -70.793747   \n",
       "25%      0.014186      0     0 ...    92.274517   48.360136     0  -58.042714   \n",
       "50%      0.014978      0     0 ...    96.520164   50.034997     0  -54.086102   \n",
       "75%      0.015962      0     0 ...    99.858045   51.284565     0  -51.655409   \n",
       "max      0.019445      0     0 ...   111.611329   55.377881     0  -43.770307   \n",
       "\n",
       "       noe  amd_boost         tot  les          gb  scf  \n",
       "count  101        101  101.000000  101  101.000000  101  \n",
       "mean     0          0 -280.309465    0 -392.487683    0  \n",
       "std      0          0   11.238574    0   14.710022    0  \n",
       "min      0          0 -304.416297    0 -439.927013    0  \n",
       "25%      0          0 -286.997153    0 -402.303297    0  \n",
       "50%      0          0 -280.839953    0 -391.854334    0  \n",
       "75%      0          0 -273.232476    0 -382.291285    0  \n",
       "max      0          0 -225.720813    0 -363.345464    0  \n",
       "\n",
       "[8 rows x 26 columns]"
      ]
     },
     "execution_count": 4,
     "metadata": {},
     "output_type": "execute_result"
    }
   ],
   "source": [
    "\n",
    "df.describe()"
   ]
  },
  {
   "cell_type": "markdown",
   "metadata": {},
   "source": [
    "### plot GB energies"
   ]
  },
  {
   "cell_type": "code",
   "execution_count": 5,
   "metadata": {
    "collapsed": false
   },
   "outputs": [
    {
     "data": {
      "text/plain": [
       "<matplotlib.axes._subplots.AxesSubplot at 0x2aaae8647b70>"
      ]
     },
     "execution_count": 5,
     "metadata": {},
     "output_type": "execute_result"
    },
    {
     "data": {
      "image/png": "[encoded data removed]",
      "text/plain": [
       "<matplotlib.figure.Figure at 0x2aaae8612ac8>"
      ]
     },
     "metadata": {},
     "output_type": "display_data"
    }
   ],
   "source": [
    "%matplotlib inline\n",
    "\n",
    "df['gb'].plot()"
   ]
  },
  {
   "cell_type": "markdown",
   "metadata": {},
   "source": [
    "### compute rmsd to 1st frame and add rmsd to DataFrame"
   ]
  },
  {
   "cell_type": "code",
   "execution_count": 6,
   "metadata": {
    "collapsed": false
   },
   "outputs": [
    {
     "name": "stdout",
     "output_type": "stream",
     "text": [
      "[  1.94667955e-07   2.54596866e+00   4.22333034e+00 ...,   4.97189564e+00\n",
      "   5.53947712e+00   4.83201237e+00]\n"
     ]
    },
    {
     "data": {
      "text/plain": [
       "0    1.946680e-07\n",
       "1    2.545969e+00\n",
       "2    4.223330e+00\n",
       "3    3.464763e+00\n",
       "4    3.339562e+00\n",
       "Name: rmsd, dtype: float64"
      ]
     },
     "execution_count": 6,
     "metadata": {},
     "output_type": "execute_result"
    }
   ],
   "source": [
    "tz_rmsd = pt.rmsd(traj, ref=0, mask='@CA')\n",
    "print(tz_rmsd)\n",
    "\n",
    "df['rmsd'] = pd.Series(tz_rmsd)\n",
    "df['rmsd'].head()"
   ]
  },
  {
   "cell_type": "code",
   "execution_count": 7,
   "metadata": {
    "collapsed": false
   },
   "outputs": [
    {
     "data": {
      "text/plain": [
       "[<matplotlib.lines.Line2D at 0x2aaaea9cc668>]"
      ]
     },
     "execution_count": 7,
     "metadata": {},
     "output_type": "execute_result"
    },
    {
     "data": {
      "image/png": "[encoded data removed]",
      "text/plain": [
       "<matplotlib.figure.Figure at 0x2aaae88e6470>"
      ]
     },
     "metadata": {},
     "output_type": "display_data"
    }
   ],
   "source": [
    "### plot tot energy vs rmsd\n",
    "\n",
    "from matplotlib import pyplot as plt\n",
    "\n",
    "plt.plot(df['rmsd'], df['tot'], 'ro')"
   ]
  },
  {
   "cell_type": "markdown",
   "metadata": {},
   "source": [
    "### save DataFrame to CSV format"
   ]
  },
  {
   "cell_type": "code",
   "execution_count": 8,
   "metadata": {
    "collapsed": true
   },
   "outputs": [],
   "source": [
    "df.to_csv('data.csv')\n",
    "\n",
    "# other formats"
   ]
  }
 ],
 "metadata": {
  "kernelspec": {
   "display_name": "Python 3",
   "language": "python",
   "name": "python3"
  },
  "language_info": {
   "codemirror_mode": {
    "name": "ipython",
    "version": 3
   },
   "file_extension": ".py",
   "mimetype": "text/x-python",
   "name": "python",
   "nbconvert_exporter": "python",
   "pygments_lexer": "ipython3",
   "version": "3.5.1"
  }
 },
 "nbformat": 4,
 "nbformat_minor": 0
}
